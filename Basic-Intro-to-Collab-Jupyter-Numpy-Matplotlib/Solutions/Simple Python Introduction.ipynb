{
 "cells": [
  {
   "cell_type": "markdown",
   "metadata": {},
   "source": [
    "### 1.\tCalculate how much money you would have if you compounded $100 at 10% for 8 years. (Use Python Operators and print the answer to the console)."
   ]
  },
  {
   "cell_type": "code",
   "execution_count": 10,
   "metadata": {},
   "outputs": [
    {
     "name": "stdout",
     "output_type": "stream",
     "text": [
      "214.35888100000017\n"
     ]
    }
   ],
   "source": [
    "print(100 * (1.1**8))"
   ]
  },
  {
   "cell_type": "markdown",
   "metadata": {},
   "source": [
    "### 2.\tCreate a variable called “days”. Assign the value “7” to this variable. Try to execute the following code print (“There are ” + days + “ days in a week”). Rewrite the code to avoid the error."
   ]
  },
  {
   "cell_type": "code",
   "execution_count": 11,
   "metadata": {},
   "outputs": [],
   "source": [
    "days = 7"
   ]
  },
  {
   "cell_type": "code",
   "execution_count": 12,
   "metadata": {
    "collapsed": true
   },
   "outputs": [
    {
     "ename": "TypeError",
     "evalue": "can only concatenate str (not \"int\") to str",
     "output_type": "error",
     "traceback": [
      "\u001b[1;31m---------------------------------------------------------------------------\u001b[0m",
      "\u001b[1;31mTypeError\u001b[0m                                 Traceback (most recent call last)",
      "\u001b[1;32m<ipython-input-12-e3b8717b7b7c>\u001b[0m in \u001b[0;36m<module>\u001b[1;34m\u001b[0m\n\u001b[0;32m      1\u001b[0m \u001b[1;31m# Try to execute the following code\u001b[0m\u001b[1;33m\u001b[0m\u001b[1;33m\u001b[0m\u001b[1;33m\u001b[0m\u001b[0m\n\u001b[0;32m      2\u001b[0m \u001b[1;33m\u001b[0m\u001b[0m\n\u001b[1;32m----> 3\u001b[1;33m \u001b[0mprint\u001b[0m\u001b[1;33m(\u001b[0m\u001b[1;34m\"There are \"\u001b[0m \u001b[1;33m+\u001b[0m \u001b[0mdays\u001b[0m \u001b[1;33m+\u001b[0m \u001b[1;34m\" days in a week\"\u001b[0m\u001b[1;33m)\u001b[0m\u001b[1;33m\u001b[0m\u001b[1;33m\u001b[0m\u001b[0m\n\u001b[0m",
      "\u001b[1;31mTypeError\u001b[0m: can only concatenate str (not \"int\") to str"
     ]
    }
   ],
   "source": [
    "# Try to execute the following code \n",
    "\n",
    "print(\"There are \" + days + \" days in a week\")\n"
   ]
  },
  {
   "cell_type": "code",
   "execution_count": 13,
   "metadata": {
    "collapsed": true
   },
   "outputs": [
    {
     "name": "stdout",
     "output_type": "stream",
     "text": [
      "There are 7 days in a week\n"
     ]
    }
   ],
   "source": [
    "# Rewrite the code to avoid the error\n",
    "print(\"There are \" + str(days) + \" days in a week\")"
   ]
  },
  {
   "cell_type": "markdown",
   "metadata": {},
   "source": [
    "## There are 3 popularly used data types in the Python programming language. These data types let you group items into collections with specific properties (that you can then manipulate further later).\n",
    "●\tLists are a collection which is ordered and changeable. Allows duplicate members.\n",
    "●\tDictionaries are a collection which are unordered, changeable, and indexed. No duplicate members.\n",
    "●\tSets are a collection which is unordered and unindexed. No duplicate members."
   ]
  },
  {
   "cell_type": "markdown",
   "metadata": {},
   "source": [
    "### 3.\tCreate a list with the following elements [“Tuesday”, “Wednesday”, “Thursday”, “Friday”, “Saturday”, “Sunday”, 42]. Add the string ‘Someday’ into this list. Add the variable ‘days’ that you previously created into this list.  Create a new variable called ‘sliced_list’, which only contain the first 8 elements of the first list. Delete the integer ‘42’ from the list. Change the string ‘Someday’ to ‘Monday’.\n"
   ]
  },
  {
   "cell_type": "code",
   "execution_count": 15,
   "metadata": {
    "collapsed": true
   },
   "outputs": [],
   "source": [
    "list_days = [\"Tuesday\", \"Wednesday\", \"Thursday\", \"Friday\", \"Saturday\", \"Sunday\", 42]\n",
    "list_days.append(\"Someday\")\n",
    "list_days.append(days)"
   ]
  },
  {
   "cell_type": "code",
   "execution_count": 16,
   "metadata": {
    "collapsed": true
   },
   "outputs": [
    {
     "data": {
      "text/plain": [
       "['Tuesday',\n",
       " 'Wednesday',\n",
       " 'Thursday',\n",
       " 'Friday',\n",
       " 'Saturday',\n",
       " 'Sunday',\n",
       " 42,\n",
       " 'Someday',\n",
       " 7]"
      ]
     },
     "execution_count": 16,
     "metadata": {},
     "output_type": "execute_result"
    }
   ],
   "source": [
    "list_days"
   ]
  },
  {
   "cell_type": "code",
   "execution_count": 18,
   "metadata": {
    "collapsed": true
   },
   "outputs": [
    {
     "data": {
      "text/plain": [
       "['Tuesday', 'Wednesday', 'Thursday', 'Friday', 'Saturday', 'Sunday', 'Monday']"
      ]
     },
     "execution_count": 18,
     "metadata": {},
     "output_type": "execute_result"
    }
   ],
   "source": [
    "# Create a new variable called ‘sliced_list’, which only contain the first 8 elements of the \n",
    "# first list. Delete the integer ‘42’ from the list. Change the string ‘Someday’ to ‘Monday’\n",
    "\n",
    "sliced_list = list_days[0:8]\n",
    "sliced_list.remove(42)\n",
    "sliced_list[6] = \"Monday\"\n",
    "sliced_list"
   ]
  },
  {
   "cell_type": "markdown",
   "metadata": {},
   "source": [
    "### 4. Create a dictionary with the following key:value pairs. 'name':['john','mary','peter','jeff','bill','lisa','jose'],\n",
    "'age':[23,78,22,19,45,33,20],\n",
    "'gender':['M','F','M','M','M','F','M'],\n",
    "'State':['california','dc','california','dc','california','texas','texas'],\n",
    "'num_children':[2,0,0,3,2,1,4]\n",
    "\n",
    "Add the following key:value pair to the dictionary.\n",
    "'num_pets':[5,1,0,5,2,2,3]\n"
   ]
  },
  {
   "cell_type": "code",
   "execution_count": 20,
   "metadata": {
    "collapsed": true
   },
   "outputs": [
    {
     "data": {
      "text/plain": [
       "{'name': ['john', 'mary', 'peter', 'jeff', 'bill', 'lisa', 'jose'],\n",
       " 'age': [23, 78, 22, 19, 45, 33, 20],\n",
       " 'gender': ['M', 'F', 'M', 'M', 'M', 'F', 'M'],\n",
       " 'State': ['california',\n",
       "  'dc',\n",
       "  'california',\n",
       "  'dc',\n",
       "  'california',\n",
       "  'texas',\n",
       "  'texas'],\n",
       " 'num_children': [2, 0, 0, 3, 2, 1, 4]}"
      ]
     },
     "execution_count": 20,
     "metadata": {},
     "output_type": "execute_result"
    }
   ],
   "source": [
    "# Create a dictionary with the following key:value pairs.\n",
    "\n",
    "dict_person = {\n",
    "'name':['john','mary','peter','jeff','bill','lisa','jose'],\n",
    "'age':[23,78,22,19,45,33,20],\n",
    "'gender':['M','F','M','M','M','F','M'],\n",
    "'State':['california','dc','california','dc','california','texas','texas'],\n",
    "'num_children':[2,0,0,3,2,1,4]\n",
    "}\n",
    "\n",
    "dict_person"
   ]
  },
  {
   "cell_type": "code",
   "execution_count": 21,
   "metadata": {
    "collapsed": true
   },
   "outputs": [
    {
     "data": {
      "text/plain": [
       "{'name': ['john', 'mary', 'peter', 'jeff', 'bill', 'lisa', 'jose'],\n",
       " 'age': [23, 78, 22, 19, 45, 33, 20],\n",
       " 'gender': ['M', 'F', 'M', 'M', 'M', 'F', 'M'],\n",
       " 'State': ['california',\n",
       "  'dc',\n",
       "  'california',\n",
       "  'dc',\n",
       "  'california',\n",
       "  'texas',\n",
       "  'texas'],\n",
       " 'num_children': [2, 0, 0, 3, 2, 1, 4],\n",
       " 'num_pets': [5, 1, 0, 5, 2, 2, 3]}"
      ]
     },
     "execution_count": 21,
     "metadata": {},
     "output_type": "execute_result"
    }
   ],
   "source": [
    "# Add the following key:value pair to the dictionary.\n",
    "\n",
    "dict_person['num_pets'] = [5,1,0,5,2,2,3]\n",
    "\n",
    "dict_person"
   ]
  },
  {
   "cell_type": "markdown",
   "metadata": {},
   "source": [
    "### 5.\tImport the pandas library as pd and the matplotlib.pylot library as plt. Convert the dictionary above to a dataframe."
   ]
  },
  {
   "cell_type": "code",
   "execution_count": 22,
   "metadata": {},
   "outputs": [],
   "source": [
    "# Import the pandas library as pd and the matplotlib.pylot library as plt. Convert the \n",
    "# dictionary above to a dataframe\n",
    "\n",
    "import pandas as pd\n",
    "import matplotlib.pyplot as plt\n",
    "\n",
    "df = pd.DataFrame(data = dict)"
   ]
  },
  {
   "cell_type": "code",
   "execution_count": 23,
   "metadata": {
    "collapsed": true
   },
   "outputs": [
    {
     "data": {
      "text/html": [
       "<div>\n",
       "<style scoped>\n",
       "    .dataframe tbody tr th:only-of-type {\n",
       "        vertical-align: middle;\n",
       "    }\n",
       "\n",
       "    .dataframe tbody tr th {\n",
       "        vertical-align: top;\n",
       "    }\n",
       "\n",
       "    .dataframe thead th {\n",
       "        text-align: right;\n",
       "    }\n",
       "</style>\n",
       "<table border=\"1\" class=\"dataframe\">\n",
       "  <thead>\n",
       "    <tr style=\"text-align: right;\">\n",
       "      <th></th>\n",
       "      <th>name</th>\n",
       "      <th>age</th>\n",
       "      <th>gender</th>\n",
       "      <th>State</th>\n",
       "      <th>num_children</th>\n",
       "    </tr>\n",
       "  </thead>\n",
       "  <tbody>\n",
       "    <tr>\n",
       "      <th>0</th>\n",
       "      <td>john</td>\n",
       "      <td>23</td>\n",
       "      <td>M</td>\n",
       "      <td>california</td>\n",
       "      <td>2</td>\n",
       "    </tr>\n",
       "    <tr>\n",
       "      <th>1</th>\n",
       "      <td>mary</td>\n",
       "      <td>78</td>\n",
       "      <td>F</td>\n",
       "      <td>dc</td>\n",
       "      <td>0</td>\n",
       "    </tr>\n",
       "    <tr>\n",
       "      <th>2</th>\n",
       "      <td>peter</td>\n",
       "      <td>22</td>\n",
       "      <td>M</td>\n",
       "      <td>california</td>\n",
       "      <td>0</td>\n",
       "    </tr>\n",
       "    <tr>\n",
       "      <th>3</th>\n",
       "      <td>jeff</td>\n",
       "      <td>19</td>\n",
       "      <td>M</td>\n",
       "      <td>dc</td>\n",
       "      <td>3</td>\n",
       "    </tr>\n",
       "    <tr>\n",
       "      <th>4</th>\n",
       "      <td>bill</td>\n",
       "      <td>45</td>\n",
       "      <td>M</td>\n",
       "      <td>california</td>\n",
       "      <td>2</td>\n",
       "    </tr>\n",
       "    <tr>\n",
       "      <th>5</th>\n",
       "      <td>lisa</td>\n",
       "      <td>33</td>\n",
       "      <td>F</td>\n",
       "      <td>texas</td>\n",
       "      <td>1</td>\n",
       "    </tr>\n",
       "    <tr>\n",
       "      <th>6</th>\n",
       "      <td>jose</td>\n",
       "      <td>20</td>\n",
       "      <td>M</td>\n",
       "      <td>texas</td>\n",
       "      <td>4</td>\n",
       "    </tr>\n",
       "  </tbody>\n",
       "</table>\n",
       "</div>"
      ],
      "text/plain": [
       "    name  age gender       State  num_children\n",
       "0   john   23      M  california             2\n",
       "1   mary   78      F          dc             0\n",
       "2  peter   22      M  california             0\n",
       "3   jeff   19      M          dc             3\n",
       "4   bill   45      M  california             2\n",
       "5   lisa   33      F       texas             1\n",
       "6   jose   20      M       texas             4"
      ]
     },
     "execution_count": 23,
     "metadata": {},
     "output_type": "execute_result"
    }
   ],
   "source": [
    "df"
   ]
  },
  {
   "cell_type": "markdown",
   "metadata": {},
   "source": [
    "### 6. Plot a scatterplot of 'num_childern' against 'num_pets'"
   ]
  },
  {
   "cell_type": "code",
   "execution_count": 19,
   "metadata": {
    "collapsed": true
   },
   "outputs": [
    {
     "data": {
      "text/plain": [
       "<matplotlib.axes._subplots.AxesSubplot at 0x11bf6ac88>"
      ]
     },
     "execution_count": 19,
     "metadata": {},
     "output_type": "execute_result"
    },
    {
     "data": {
      "image/png": "[encoded data removed]",
      "text/plain": [
       "<Figure size 432x288 with 1 Axes>"
      ]
     },
     "metadata": {
      "needs_background": "light"
     },
     "output_type": "display_data"
    }
   ],
   "source": [
    "# Plot a scatterplot of 'num_childern' against 'num_pets'\n",
    "\n",
    "df.plot.scatter('num_children', 'num_pets')"
   ]
  },
  {
   "cell_type": "markdown",
   "metadata": {},
   "source": [
    "### 7.\tPlot a bar plot of ‘name’ against ‘age’."
   ]
  },
  {
   "cell_type": "code",
   "execution_count": 25,
   "metadata": {
    "collapsed": true
   },
   "outputs": [
    {
     "data": {
      "text/plain": [
       "<matplotlib.axes._subplots.AxesSubplot at 0x1f35ac0d160>"
      ]
     },
     "execution_count": 25,
     "metadata": {},
     "output_type": "execute_result"
    },
    {
     "data": {
      "image/png": "[encoded data removed]",
      "text/plain": [
       "<Figure size 432x288 with 1 Axes>"
      ]
     },
     "metadata": {
      "needs_background": "light"
     },
     "output_type": "display_data"
    }
   ],
   "source": [
    "# Plot a bar plot of 'name' against 'age'\n",
    "\n",
    "df.plot.bar('name', 'age')"
   ]
  },
  {
   "cell_type": "markdown",
   "metadata": {},
   "source": [
    "### 8.\tCreate a list with the numbers 1 to 10. Write a program to loop through the numbers in the list and print “odd” if the number is odd and “even” if the number is even."
   ]
  },
  {
   "cell_type": "code",
   "execution_count": 1,
   "metadata": {
    "collapsed": true
   },
   "outputs": [],
   "source": [
    "list = [1, 2, 3, 4, 5, 6, 7, 8, 9, 10]"
   ]
  },
  {
   "cell_type": "code",
   "execution_count": 3,
   "metadata": {
    "collapsed": true
   },
   "outputs": [
    {
     "name": "stdout",
     "output_type": "stream",
     "text": [
      "1 is odd\n",
      "2 is even\n",
      "3 is odd\n",
      "4 is even\n",
      "5 is odd\n",
      "6 is even\n",
      "7 is odd\n",
      "8 is even\n",
      "9 is odd\n",
      "10 is even\n"
     ]
    }
   ],
   "source": [
    "for number in list:\n",
    "    if number % 2 == 0:\n",
    "        print(str(number) + ' is even')\n",
    "    else:\n",
    "        print(str(number) + ' is odd')"
   ]
  },
  {
   "cell_type": "code",
   "execution_count": null,
   "metadata": {
    "collapsed": true
   },
   "outputs": [],
   "source": []
  }
 ],
 "metadata": {
  "kernelspec": {
   "display_name": "Python 3",
   "language": "python",
   "name": "python3"
  },
  "language_info": {
   "codemirror_mode": {
    "name": "ipython",
    "version": 3
   },
   "file_extension": ".py",
   "mimetype": "text/x-python",
   "name": "python",
   "nbconvert_exporter": "python",
   "pygments_lexer": "ipython3",
   "version": "3.7.3"
  }
 },
 "nbformat": 4,
 "nbformat_minor": 4
}
